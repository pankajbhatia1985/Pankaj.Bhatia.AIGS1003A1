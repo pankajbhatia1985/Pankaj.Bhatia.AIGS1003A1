{
 "cells": [
  {
   "cell_type": "markdown",
   "id": "18de7949",
   "metadata": {},
   "source": [
    "# ASSIGNMENT#1"
   ]
  },
  {
   "cell_type": "markdown",
   "id": "6e25f98d",
   "metadata": {},
   "source": [
    "### Solution1"
   ]
  },
  {
   "attachments": {},
   "cell_type": "markdown",
   "id": "c878bd7d",
   "metadata": {},
   "source": [
    "**To find : P (C sunny/ a cone of ice-cream) = ? <br>\n",
    "P (rainy /a cup of hot coffee)=? <br>\n",
    "Given the occurrence of each word is Independent<br>\n",
    "P (a cone of ice cream) = P(a) (cone) P(of) P(ice) P(cream)** <br>\n",
    "**Part a)** <br>\n",
    "P(Sunny/a cone of ice cream) <br>\n",
    "_Using Bayes theorem :P(A/B) = (PB/A)*P(A)/P(B)_ <br>\n",
    "we can find <br>\n",
    "P (Sunny/a cone of Ice-cream) = P (a cone of Ice-cream/sunny) * (P (sunny)/ P(a cone of Ice-cream)) \n",
    "Also, since the words are independent: <br>\n",
    "**we want to classify the tags with higher probability, so ignoring the denominator** <br>\n",
    "therefore: - <br>\n",
    "P (Sunny/a cone of Ice-cream) = P(a/sunny) * P (Cone/sunny) * P (of/ sunny) * P(Ice/ sunny)* P (Cream/sunny)* P (Sunny)<br>\n",
    "\n",
    "**Part B)** <br>\n",
    "Similarly: -<br>\n",
    "P (rainy/a cup of hot coffee) = P(a/rainy).P(cup/rainy).P(of/rainy).P(hot/rainy).P(coffee/rainy).P(rainy) \n"
   ]
  },
  {
   "cell_type": "code",
   "execution_count": 1,
   "id": "62e8aea1",
   "metadata": {},
   "outputs": [
    {
     "data": {
      "text/plain": [
       "'/Users/vinaymalik'"
      ]
     },
     "execution_count": 1,
     "metadata": {},
     "output_type": "execute_result"
    }
   ],
   "source": [
    "pwd"
   ]
  },
  {
   "cell_type": "markdown",
   "id": "dad698f2",
   "metadata": {},
   "source": [
    "### Question 2"
   ]
  },
  {
   "cell_type": "code",
   "execution_count": null,
   "id": "72f810d6",
   "metadata": {},
   "outputs": [],
   "source": []
  }
 ],
 "metadata": {
  "kernelspec": {
   "display_name": "Python 3 (ipykernel)",
   "language": "python",
   "name": "python3"
  },
  "language_info": {
   "codemirror_mode": {
    "name": "ipython",
    "version": 3
   },
   "file_extension": ".py",
   "mimetype": "text/x-python",
   "name": "python",
   "nbconvert_exporter": "python",
   "pygments_lexer": "ipython3",
   "version": "3.9.12"
  }
 },
 "nbformat": 4,
 "nbformat_minor": 5
}
